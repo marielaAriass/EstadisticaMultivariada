{
  "nbformat": 4,
  "nbformat_minor": 0,
  "metadata": {
    "colab": {
      "provenance": [],
      "authorship_tag": "ABX9TyOqt6bxOUZJOAb+hJdmpEwi",
      "include_colab_link": true
    },
    "kernelspec": {
      "name": "python3",
      "display_name": "Python 3"
    },
    "language_info": {
      "name": "python"
    }
  },
  "cells": [
    {
      "cell_type": "markdown",
      "metadata": {
        "id": "view-in-github",
        "colab_type": "text"
      },
      "source": [
        "<a href=\"https://colab.research.google.com/github/marielaAriass/EstadisticaMultivariada/blob/main/Ejercicios/EM_ValidacionSupuestos.ipynb\" target=\"_parent\"><img src=\"https://colab.research.google.com/assets/colab-badge.svg\" alt=\"Open In Colab\"/></a>"
      ]
    },
    {
      "cell_type": "markdown",
      "source": [
        "## Código en R"
      ],
      "metadata": {
        "id": "1NHTTGxmyBgJ"
      }
    },
    {
      "cell_type": "code",
      "execution_count": 1,
      "metadata": {
        "id": "ajDbyFpQuwOR"
      },
      "outputs": [],
      "source": [
        "%load_ext rpy2.ipython"
      ]
    },
    {
      "cell_type": "code",
      "source": [],
      "metadata": {
        "colab": {
          "base_uri": "https://localhost:8080/",
          "height": 173
        },
        "id": "J-6w7q2rwvVa",
        "outputId": "8421d3cd-744a-41cd-d841-887c45d3526f"
      },
      "execution_count": 4,
      "outputs": [
        {
          "output_type": "display_data",
          "data": {
            "text/plain": [
              "Installing package into ‘/usr/local/lib/R/site-library’\n",
              "(as ‘lib’ is unspecified)\n",
              "also installing the dependency ‘svglite’\n",
              "\n",
              "trying URL 'https://cran.rstudio.com/src/contrib/svglite_2.2.1.tar.gz'\n",
              "trying URL 'https://cran.rstudio.com/src/contrib/kableExtra_1.4.0.tar.gz'\n",
              "\n",
              "The downloaded source packages are in\n",
              "\t‘/tmp/Rtmp1Wjcup/downloaded_packages’\n"
            ]
          },
          "metadata": {}
        }
      ]
    },
    {
      "cell_type": "code",
      "source": [
        "%%R\n",
        "## Cargar datos\n",
        "yp <-c(6.40, 15.05, 18.75, 30.25, 44.85, 48.85, 51.55, 61.50, 100.44, 111.42)\n",
        "x1 <-c(1.32, 2.69, 3.56, 4.41, 5.35, 6.20, 7.12, 8.87, 9.80, 10.65)\n",
        "x2 <-c(1.15, 3.40, 4.10, 8.75, 14.82, 15.15, 15.32, 18.18, 35.19, 40.40)\n",
        "datos<-data.frame(yp, x1, x2)\n",
        "kable(datos, caption = \"Factores que influyen en el tiempo de coccion segun diferentes niveles de ancho del horno y diferentes temperaturas\")"
      ],
      "metadata": {
        "colab": {
          "base_uri": "https://localhost:8080/"
        },
        "id": "_kcZPV52wB0v",
        "outputId": "7ef03b07-6dd8-4443-d811-f71d8d669837"
      },
      "execution_count": 6,
      "outputs": [
        {
          "output_type": "stream",
          "name": "stdout",
          "text": [
            "\n",
            "\n",
            "Table: Factores que influyen en el tiempo de coccion segun diferentes niveles de ancho del horno y diferentes temperaturas\n",
            "\n",
            "|     yp|    x1|    x2|\n",
            "|------:|-----:|-----:|\n",
            "|   6.40|  1.32|  1.15|\n",
            "|  15.05|  2.69|  3.40|\n",
            "|  18.75|  3.56|  4.10|\n",
            "|  30.25|  4.41|  8.75|\n",
            "|  44.85|  5.35| 14.82|\n",
            "|  48.85|  6.20| 15.15|\n",
            "|  51.55|  7.12| 15.32|\n",
            "|  61.50|  8.87| 18.18|\n",
            "| 100.44|  9.80| 35.19|\n",
            "| 111.42| 10.65| 40.40|\n"
          ]
        }
      ]
    },
    {
      "cell_type": "code",
      "source": [],
      "metadata": {
        "colab": {
          "base_uri": "https://localhost:8080/",
          "height": 191
        },
        "id": "9KvKFPcvxO3q",
        "outputId": "804c931f-2b6c-4db6-8255-f1f7e2c79466"
      },
      "execution_count": 9,
      "outputs": [
        {
          "output_type": "display_data",
          "data": {
            "text/plain": [
              "Installing package into ‘/usr/local/lib/R/site-library’\n",
              "(as ‘lib’ is unspecified)\n",
              "trying URL 'https://cran.rstudio.com/src/contrib/ggplot2_3.5.2.tar.gz'\n",
              "Content type 'application/x-gzip' length 3580451 bytes (3.4 MB)\n",
              "==================================================\n",
              "downloaded 3.4 MB\n",
              "\n",
              "\n",
              "The downloaded source packages are in\n",
              "\t‘/tmp/Rtmp1Wjcup/downloaded_packages’\n"
            ]
          },
          "metadata": {}
        }
      ]
    },
    {
      "cell_type": "code",
      "source": [
        "%%R\n",
        "## Visualizar los datos\n",
        "# Install and load patchwork if not already installed -> Para usar + en ggplot\n",
        "if (!requireNamespace(\"patchwork\", quietly = TRUE)) {\n",
        "    install.packages(\"patchwork\")\n",
        "}\n",
        "library(patchwork)\n",
        "\n",
        "g1 <- ggplot(data = datos, mapping = aes(x = x1, y = yp)) +\n",
        "  geom_point(color = \"blue\", size = 2) +\n",
        "  labs(title  =  'yp ~ x1', x  =  'x1') +\n",
        "  geom_smooth(method = \"lm\", se = FALSE, color = \"black\") +\n",
        "  theme_bw() +\n",
        "  theme(plot.title = element_text(hjust = 0.5))\n",
        "\n",
        "g2 <- ggplot(data = datos, mapping = aes(x = x2, y = yp)) +\n",
        "  geom_point(color = \"orange\", size = 2) +\n",
        "  labs(title  =  'yp ~ x2', x  =  'x2') +\n",
        "  geom_smooth(method = \"lm\", se = FALSE, color = \"black\") +\n",
        "  theme_bw() +\n",
        "  theme(plot.title = element_text(hjust = 0.5))\n",
        "\n",
        "g1 + g2"
      ],
      "metadata": {
        "colab": {
          "base_uri": "https://localhost:8080/",
          "height": 705
        },
        "id": "sWjthZOswhJk",
        "outputId": "a0086f7a-9e20-42b9-db13-2ecf6745f4ea"
      },
      "execution_count": 11,
      "outputs": [
        {
          "output_type": "stream",
          "name": "stdout",
          "text": [
            "`geom_smooth()` using formula = 'y ~ x'\n",
            "`geom_smooth()` using formula = 'y ~ x'\n"
          ]
        },
        {
          "output_type": "display_data",
          "data": {
            "text/plain": [
              "Installing package into ‘/usr/local/lib/R/site-library’\n",
              "(as ‘lib’ is unspecified)\n",
              "trying URL 'https://cran.rstudio.com/src/contrib/patchwork_1.3.2.tar.gz'\n",
              "Content type 'application/x-gzip' length 3322521 bytes (3.2 MB)\n",
              "==================================================\n",
              "downloaded 3.2 MB\n",
              "\n",
              "\n",
              "The downloaded source packages are in\n",
              "\t‘/tmp/Rtmp1Wjcup/downloaded_packages’\n"
            ]
          },
          "metadata": {}
        },
        {
          "output_type": "display_data",
          "data": {
            "image/png": "[encoded data removed]",
            "text/plain": [
              "<IPython.core.display.Image object>"
            ]
          },
          "metadata": {}
        }
      ]
    },
    {
      "cell_type": "code",
      "source": [
        "%%R\n",
        "## Multicolinealidad\n",
        "variables <- data.frame(x1,x2)\n",
        "m_cor <- cor(variables,method = \"pearson\")\n",
        "m_cor"
      ],
      "metadata": {
        "colab": {
          "base_uri": "https://localhost:8080/"
        },
        "id": "k9kSz3ZoxMy6",
        "outputId": "78f02651-e432-4b49-8730-372dfc3ff587"
      },
      "execution_count": 12,
      "outputs": [
        {
          "output_type": "stream",
          "name": "stdout",
          "text": [
            "          x1        x2\n",
            "x1 1.0000000 0.9375592\n",
            "x2 0.9375592 1.0000000\n"
          ]
        }
      ]
    },
    {
      "cell_type": "code",
      "source": [
        "%%R\n",
        "install.packages(\"corrplot\")\n",
        "library(corrplot)"
      ],
      "metadata": {
        "colab": {
          "base_uri": "https://localhost:8080/",
          "height": 208
        },
        "id": "UsgOZQvxyrCA",
        "outputId": "1f530f7c-2488-486c-abc2-4c9e1a130ef0"
      },
      "execution_count": 14,
      "outputs": [
        {
          "output_type": "display_data",
          "data": {
            "text/plain": [
              "Installing package into ‘/usr/local/lib/R/site-library’\n",
              "(as ‘lib’ is unspecified)\n",
              "trying URL 'https://cran.rstudio.com/src/contrib/corrplot_0.95.tar.gz'\n",
              "Content type 'application/x-gzip' length 3745190 bytes (3.6 MB)\n",
              "==================================================\n",
              "downloaded 3.6 MB\n",
              "\n",
              "\n",
              "The downloaded source packages are in\n",
              "\t‘/tmp/Rtmp1Wjcup/downloaded_packages’\n",
              "corrplot 0.95 loaded\n"
            ]
          },
          "metadata": {}
        }
      ]
    },
    {
      "cell_type": "code",
      "source": [
        "%%R\n",
        "## Grafica de correlacion\n",
        "corrplot(m_cor)"
      ],
      "metadata": {
        "colab": {
          "base_uri": "https://localhost:8080/",
          "height": 497
        },
        "id": "7pXlnPqJyxCv",
        "outputId": "a1c502bc-a77c-4003-d19e-6444928a1a93"
      },
      "execution_count": 17,
      "outputs": [
        {
          "output_type": "display_data",
          "data": {
            "image/png": "[encoded data removed]",
            "text/plain": [
              "<IPython.core.display.Image object>"
            ]
          },
          "metadata": {}
        }
      ]
    },
    {
      "cell_type": "code",
      "source": [
        "%%R\n",
        "## Construir 2 modelos\n",
        "#Modelo 1\n",
        "modelo1 <- lm(formula = yp ~ x1 + x2, data = datos)\n",
        "\n",
        "summary(modelo1)\n",
        "\n",
        "# El intercepto parece no ser significativo. Vamos a construir un segundo modelo usando solo x2 que parece ser más significativa."
      ],
      "metadata": {
        "colab": {
          "base_uri": "https://localhost:8080/"
        },
        "id": "VkSWpBJNy8fW",
        "outputId": "89a84d89-5bbb-4595-9ffb-d8d46e1b7dd4"
      },
      "execution_count": 19,
      "outputs": [
        {
          "output_type": "stream",
          "name": "stdout",
          "text": [
            "\n",
            "Call:\n",
            "lm(formula = yp ~ x1 + x2, data = datos)\n",
            "\n",
            "Residuals:\n",
            "    Min      1Q  Median      3Q     Max \n",
            "-0.8475 -0.3438  0.0043  0.2554  1.1578 \n",
            "\n",
            "Coefficients:\n",
            "            Estimate Std. Error t value Pr(>|t|)    \n",
            "(Intercept)  0.57723    0.59865   0.964    0.367    \n",
            "x1           2.70957    0.19935  13.592 2.75e-06 ***\n",
            "x2           2.05033    0.04743  43.227 9.26e-10 ***\n",
            "---\n",
            "Signif. codes:  0 ‘***’ 0.001 ‘**’ 0.01 ‘*’ 0.05 ‘.’ 0.1 ‘ ’ 1\n",
            "\n",
            "Residual standard error: 0.6481 on 7 degrees of freedom\n",
            "Multiple R-squared:  0.9997,\tAdjusted R-squared:  0.9997 \n",
            "F-statistic: 1.304e+04 on 2 and 7 DF,  p-value: 3.166e-13\n",
            "\n"
          ]
        }
      ]
    },
    {
      "cell_type": "code",
      "source": [
        "%%R\n",
        "## Modelo 2 usando solo x2\n",
        "modelo2 <- lm(formula = yp ~ x2, data = datos)\n",
        "\n",
        "summary(modelo2)"
      ],
      "metadata": {
        "colab": {
          "base_uri": "https://localhost:8080/"
        },
        "id": "8WN9rvsCzrUF",
        "outputId": "57b93f53-f14e-4f08-fd25-4ace3c66aca8"
      },
      "execution_count": 20,
      "outputs": [
        {
          "output_type": "stream",
          "name": "stdout",
          "text": [
            "\n",
            "Call:\n",
            "lm(formula = yp ~ x2, data = datos)\n",
            "\n",
            "Residuals:\n",
            "    Min      1Q  Median      3Q     Max \n",
            "-4.0226 -1.7338 -0.3497  1.0695  5.8668 \n",
            "\n",
            "Coefficients:\n",
            "            Estimate Std. Error t value Pr(>|t|)    \n",
            "(Intercept)  7.36967    1.61355   4.567  0.00183 ** \n",
            "x2           2.65476    0.08077  32.869 8.01e-10 ***\n",
            "---\n",
            "Signif. codes:  0 ‘***’ 0.001 ‘**’ 0.01 ‘*’ 0.05 ‘.’ 0.1 ‘ ’ 1\n",
            "\n",
            "Residual standard error: 3.173 on 8 degrees of freedom\n",
            "Multiple R-squared:  0.9926,\tAdjusted R-squared:  0.9917 \n",
            "F-statistic:  1080 on 1 and 8 DF,  p-value: 8.005e-10\n",
            "\n"
          ]
        }
      ]
    },
    {
      "cell_type": "code",
      "source": [
        "%%R\n",
        "## ANOVA\n",
        "# H_0:  Las variables que eliminamos no tienen significancia.\n",
        "# H_1: Las variables son significativas.\n",
        "\n",
        "#\\alpha = 0.05\n",
        "anova(modelo1, modelo2)\n",
        "\n",
        "# El modelo 2 (con solo x2) no es mejor que el m1\n",
        "# Como el p-valor es muy pequeño, menor al valor de significancia 0.05,\n",
        "# entonces rechazamos la hipótesis nula, lo que nos dice que el segundo modelo no es una mejora del primero.\n"
      ],
      "metadata": {
        "colab": {
          "base_uri": "https://localhost:8080/"
        },
        "id": "Jy0jwV-uz0r0",
        "outputId": "3b2b01ef-d2ff-4b02-dd5b-4a3f9a0a499d"
      },
      "execution_count": 22,
      "outputs": [
        {
          "output_type": "stream",
          "name": "stdout",
          "text": [
            "Analysis of Variance Table\n",
            "\n",
            "Model 1: yp ~ x1 + x2\n",
            "Model 2: yp ~ x2\n",
            "  Res.Df    RSS Df Sum of Sq      F    Pr(>F)    \n",
            "1      7  2.940                                  \n",
            "2      8 80.532 -1   -77.592 184.74 2.745e-06 ***\n",
            "---\n",
            "Signif. codes:  0 ‘***’ 0.001 ‘**’ 0.01 ‘*’ 0.05 ‘.’ 0.1 ‘ ’ 1\n"
          ]
        }
      ]
    },
    {
      "cell_type": "code",
      "source": [
        "%%R\n",
        "## Vamos a quitar el intercepto\n",
        "# Como desde el inicio vimos que el coeficiente correspondiente a  β_0 no era significativo, vamos a eliminarlo.\n",
        "modelo3 <- lm(formula = yp ~ x1 + x2 -1, data = datos)\n",
        "\n",
        "summary(modelo3)"
      ],
      "metadata": {
        "colab": {
          "base_uri": "https://localhost:8080/"
        },
        "id": "wuAa6kXO0ltJ",
        "outputId": "acfb11a1-8a5f-4db3-c3f7-2cf09357a8d7"
      },
      "execution_count": 23,
      "outputs": [
        {
          "output_type": "stream",
          "name": "stdout",
          "text": [
            "\n",
            "Call:\n",
            "lm(formula = yp ~ x1 + x2 - 1, data = datos)\n",
            "\n",
            "Residuals:\n",
            "    Min      1Q  Median      3Q     Max \n",
            "-0.8103 -0.3698  0.1963  0.3955  1.1807 \n",
            "\n",
            "Coefficients:\n",
            "   Estimate Std. Error t value Pr(>|t|)    \n",
            "x1  2.87003    0.10927   26.27 4.74e-09 ***\n",
            "x2  2.02140    0.03657   55.28 1.27e-11 ***\n",
            "---\n",
            "Signif. codes:  0 ‘***’ 0.001 ‘**’ 0.01 ‘*’ 0.05 ‘.’ 0.1 ‘ ’ 1\n",
            "\n",
            "Residual standard error: 0.6452 on 8 degrees of freedom\n",
            "Multiple R-squared:  0.9999,\tAdjusted R-squared:  0.9999 \n",
            "F-statistic: 4.188e+04 on 2 and 8 DF,  p-value: < 2.2e-16\n",
            "\n"
          ]
        }
      ]
    },
    {
      "cell_type": "code",
      "source": [
        "%%R\n",
        "##\n",
        "residuales = modelo3$residuals\n",
        "\n",
        "## Q-Q plot\n",
        "qqnorm(residuales)\n",
        "qqline(residuales)\n",
        "\n",
        "plot(modelo3)\n",
        "\n",
        "# H_O: la distribucion es normla\n",
        "# H_1: la distribucion no es normal\n",
        "\n",
        "shapiro.test(residuales)\n",
        "# alpha= 0.05"
      ],
      "metadata": {
        "colab": {
          "base_uri": "https://localhost:8080/",
          "height": 601
        },
        "id": "2VqoMtPw0lqb",
        "outputId": "c604255c-8c16-4ddd-de0d-519d73a97f3a"
      },
      "execution_count": 26,
      "outputs": [
        {
          "output_type": "stream",
          "name": "stdout",
          "text": [
            "\n",
            "\tShapiro-Wilk normality test\n",
            "\n",
            "data:  residuales\n",
            "W = 0.95058, p-value = 0.6754\n",
            "\n"
          ]
        },
        {
          "output_type": "display_data",
          "data": {
            "image/png": "[encoded data removed]",
            "text/plain": [
              "<IPython.core.display.Image object>"
            ]
          },
          "metadata": {}
        }
      ]
    },
    {
      "cell_type": "code",
      "source": [
        "%%R\n",
        "## Homocedasticidad\n"
      ],
      "metadata": {
        "colab": {
          "base_uri": "https://localhost:8080/"
        },
        "id": "8ireh8IZ1MW6",
        "outputId": "d6a7fe03-b094-438f-d228-5d2ef640fd15"
      },
      "execution_count": 27,
      "outputs": [
        {
          "output_type": "stream",
          "name": "stdout",
          "text": [
            "NULL\n"
          ]
        }
      ]
    },
    {
      "cell_type": "code",
      "source": [
        "%%R\n"
      ],
      "metadata": {
        "id": "6tXCCK3V1pPQ"
      },
      "execution_count": null,
      "outputs": []
    }
  ]
}